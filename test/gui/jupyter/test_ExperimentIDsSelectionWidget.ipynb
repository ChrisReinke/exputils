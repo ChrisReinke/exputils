{
 "cells": [
  {
   "cell_type": "code",
   "execution_count": 1,
   "metadata": {},
   "outputs": [],
   "source": [
    "from exputils.gui.jupyter import ExperimentIDsSelectionWidget\n",
    "\n",
    "experiment_data = {\n",
    "    'exp0': None,\n",
    "    'exp1': None}\n",
    "\n",
    "experiment_descriptions = {\n",
    "    'exp0': {'id': 'exp0', 'name': 'Experiment 0', 'is_load_data': True, 'directory': 'path\\to\\exp0',\n",
    "             'short_name': 'e0', 'description': 'descr0'},\n",
    "    'exp1': {'id': 'exp1', 'name': 'Experiment 1', 'is_load_data': True, 'directory': 'path\\to\\exp1',\n",
    "             'short_name': 'e1', 'description': 'descr1'}}\n",
    "\n",
    "def selection_changed_handler(event):\n",
    "    print('on_selection_changed:')\n",
    "    print('\\t experiment ids: {}'.format(event['owner'].selected_experiment_ids))\n"
   ]
  },
  {
   "cell_type": "markdown",
   "metadata": {},
   "source": [
    "# Basic Functionality"
   ]
  },
  {
   "cell_type": "code",
   "execution_count": 2,
   "metadata": {},
   "outputs": [
    {
     "data": {
      "application/vnd.jupyter.widget-view+json": {
       "model_id": "c6f17f4160a94511973cfc82b4aa2329",
       "version_major": 2,
       "version_minor": 0
      },
      "text/plain": [
       "ExperimentIDsSelectionWidget(children=(Accordion(children=(VBox(children=(Checkbox(value=True, description='al…"
      ]
     },
     "metadata": {},
     "output_type": "display_data"
    }
   ],
   "source": [
    "# experiment_data and experiment_descriptions input\n",
    "edsw = ExperimentIDsSelectionWidget(experiment_data, experiment_descriptions)\n",
    "edsw.on_selection_changed(selection_changed_handler)\n",
    "\n",
    "edsw"
   ]
  },
  {
   "cell_type": "code",
   "execution_count": 3,
   "metadata": {},
   "outputs": [
    {
     "data": {
      "application/vnd.jupyter.widget-view+json": {
       "model_id": "fd15b6ca14754a77a48a06be8961a179",
       "version_major": 2,
       "version_minor": 0
      },
      "text/plain": [
       "ExperimentIDsSelectionWidget(children=(Accordion(children=(VBox(children=(Checkbox(value=True, description='al…"
      ]
     },
     "metadata": {},
     "output_type": "display_data"
    }
   ],
   "source": [
    "# only experiment_data input\n",
    "edsw = ExperimentIDsSelectionWidget(experiment_data)\n",
    "edsw.on_selection_changed(selection_changed_handler)\n",
    "\n",
    "edsw"
   ]
  },
  {
   "cell_type": "code",
   "execution_count": 4,
   "metadata": {},
   "outputs": [
    {
     "data": {
      "application/vnd.jupyter.widget-view+json": {
       "model_id": "6de735321fd34d79abc76cebe884a269",
       "version_major": 2,
       "version_minor": 0
      },
      "text/plain": [
       "ExperimentIDsSelectionWidget(children=(Accordion(children=(VBox(children=(Checkbox(value=True, description='al…"
      ]
     },
     "metadata": {},
     "output_type": "display_data"
    }
   ],
   "source": [
    "# different label\n",
    "edsw = ExperimentIDsSelectionWidget(experiment_data, experiment_descriptions,\n",
    "                                    label_template = '<id> - <short_name> - <name> - <description>',\n",
    "                                    title_label_template = '<id>')\n",
    "edsw.on_selection_changed(selection_changed_handler)\n",
    "\n",
    "edsw"
   ]
  },
  {
   "cell_type": "markdown",
   "metadata": {},
   "source": [
    "# Setter Functionality"
   ]
  },
  {
   "cell_type": "code",
   "execution_count": 5,
   "metadata": {},
   "outputs": [
    {
     "data": {
      "application/vnd.jupyter.widget-view+json": {
       "model_id": "3c764468b8df4b4fb527e42812481003",
       "version_major": 2,
       "version_minor": 0
      },
      "text/plain": [
       "ExperimentIDsSelectionWidget(children=(Accordion(children=(VBox(children=(Checkbox(value=True, description='al…"
      ]
     },
     "metadata": {},
     "output_type": "display_data"
    },
    {
     "name": "stdout",
     "output_type": "stream",
     "text": [
      "on_selection_changed:\n",
      "\t experiment ids: ['exp1']\n"
     ]
    }
   ],
   "source": [
    "# experiment_data and experiment_descriptions input\n",
    "eidsw = ExperimentIDsSelectionWidget(experiment_data, experiment_descriptions)\n",
    "eidsw.on_selection_changed(selection_changed_handler)\n",
    "display(eidsw)\n",
    "\n",
    "eidsw.selected_experiment_ids = ['exp1']"
   ]
  },
  {
   "cell_type": "code",
   "execution_count": 6,
   "metadata": {},
   "outputs": [
    {
     "name": "stdout",
     "output_type": "stream",
     "text": [
      "on_selection_changed:\n",
      "\t experiment ids: ['exp0', 'exp1']\n"
     ]
    }
   ],
   "source": [
    "eidsw.selected_experiment_ids = 'all'"
   ]
  }
 ],
 "metadata": {
  "kernelspec": {
   "display_name": "Python 3",
   "language": "python",
   "name": "python3"
  },
  "language_info": {
   "codemirror_mode": {
    "name": "ipython",
    "version": 3
   },
   "file_extension": ".py",
   "mimetype": "text/x-python",
   "name": "python",
   "nbconvert_exporter": "python",
   "pygments_lexer": "ipython3",
   "version": "3.6.12"
  }
 },
 "nbformat": 4,
 "nbformat_minor": 4
}
