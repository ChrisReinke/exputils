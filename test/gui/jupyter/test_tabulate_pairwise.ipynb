{
 "cells": [
  {
   "cell_type": "code",
   "execution_count": 1,
   "metadata": {},
   "outputs": [],
   "source": [
    "# general imports\n",
    "import numpy as np\n",
    "from exputils.gui.jupyter import tabulate_pairwise"
   ]
  },
  {
   "cell_type": "code",
   "execution_count": 2,
   "metadata": {},
   "outputs": [
    {
     "data": {
      "text/html": [
       "<table>\n",
       "<thead>\n",
       "<tr><th>    </th><th style=\"text-align: right;\">  exp1</th><th style=\"text-align: right;\">  exp2</th><th style=\"text-align: right;\">  exp3</th></tr>\n",
       "</thead>\n",
       "<tbody>\n",
       "<tr><td>exp1</td><td style=\"text-align: right;\">     1</td><td style=\"text-align: right;\">  0.33</td><td style=\"text-align: right;\">     0</td></tr>\n",
       "<tr><td>exp2</td><td style=\"text-align: right;\">  0.33</td><td style=\"text-align: right;\">     1</td><td style=\"text-align: right;\">     0</td></tr>\n",
       "<tr><td>exp3</td><td style=\"text-align: right;\">     0</td><td style=\"text-align: right;\">     0</td><td style=\"text-align: right;\">     1</td></tr>\n",
       "</tbody>\n",
       "</table>"
      ],
      "text/plain": [
       "'<table>\\n<thead>\\n<tr><th>    </th><th style=\"text-align: right;\">  exp1</th><th style=\"text-align: right;\">  exp2</th><th style=\"text-align: right;\">  exp3</th></tr>\\n</thead>\\n<tbody>\\n<tr><td>exp1</td><td style=\"text-align: right;\">     1</td><td style=\"text-align: right;\">  0.33</td><td style=\"text-align: right;\">     0</td></tr>\\n<tr><td>exp2</td><td style=\"text-align: right;\">  0.33</td><td style=\"text-align: right;\">     1</td><td style=\"text-align: right;\">     0</td></tr>\\n<tr><td>exp3</td><td style=\"text-align: right;\">     0</td><td style=\"text-align: right;\">     0</td><td style=\"text-align: right;\">     1</td></tr>\\n</tbody>\\n</table>'"
      ]
     },
     "execution_count": 2,
     "metadata": {},
     "output_type": "execute_result"
    }
   ],
   "source": [
    "# simple plotting - array with several elements\n",
    "np.random.seed(1)\n",
    "data = [[np.random.randn(100), np.random.randn(100), np.random.randn(100)+4]]\n",
    "data_labels = [('ds1', ['exp1', 'exp2', 'exp3'])]\n",
    "\n",
    "tabulate_pairwise(data, labels=data_labels, cell_format='{:.2f}')"
   ]
  },
  {
   "cell_type": "code",
   "execution_count": 3,
   "metadata": {},
   "outputs": [
    {
     "data": {
      "text/html": [
       "<table>\n",
       "<thead>\n",
       "<tr><th>    </th><th style=\"text-align: right;\">  exp1</th><th style=\"text-align: right;\">  exp2</th><th style=\"text-align: right;\">  exp3</th></tr>\n",
       "</thead>\n",
       "<tbody>\n",
       "<tr><td>exp1</td><td style=\"text-align: right;\">      </td><td style=\"text-align: right;\">  0.33</td><td style=\"text-align: right;\">     0</td></tr>\n",
       "<tr><td>exp2</td><td style=\"text-align: right;\">  0.33</td><td style=\"text-align: right;\">      </td><td style=\"text-align: right;\">     0</td></tr>\n",
       "<tr><td>exp3</td><td style=\"text-align: right;\">     0</td><td style=\"text-align: right;\">     0</td><td style=\"text-align: right;\">      </td></tr>\n",
       "</tbody>\n",
       "</table>"
      ],
      "text/plain": [
       "'<table>\\n<thead>\\n<tr><th>    </th><th style=\"text-align: right;\">  exp1</th><th style=\"text-align: right;\">  exp2</th><th style=\"text-align: right;\">  exp3</th></tr>\\n</thead>\\n<tbody>\\n<tr><td>exp1</td><td style=\"text-align: right;\">      </td><td style=\"text-align: right;\">  0.33</td><td style=\"text-align: right;\">     0</td></tr>\\n<tr><td>exp2</td><td style=\"text-align: right;\">  0.33</td><td style=\"text-align: right;\">      </td><td style=\"text-align: right;\">     0</td></tr>\\n<tr><td>exp3</td><td style=\"text-align: right;\">     0</td><td style=\"text-align: right;\">     0</td><td style=\"text-align: right;\">      </td></tr>\\n</tbody>\\n</table>'"
      ]
     },
     "execution_count": 3,
     "metadata": {},
     "output_type": "execute_result"
    }
   ],
   "source": [
    "# simple plotting - array with several elements\n",
    "np.random.seed(1)\n",
    "data = [[np.random.randn(100), np.random.randn(100), np.random.randn(100)+4]]\n",
    "data_labels = [('ds1', ['exp1', 'exp2', 'exp3'])]\n",
    "\n",
    "tabulate_pairwise(\n",
    "    data, \n",
    "    labels=data_labels, \n",
    "    pairwise_mode='full_not_identity',\n",
    "    cell_format='{:.2f}')"
   ]
  },
  {
   "cell_type": "code",
   "execution_count": 4,
   "metadata": {},
   "outputs": [
    {
     "data": {
      "text/html": [
       "<table>\n",
       "<thead>\n",
       "<tr><th>    </th><th style=\"text-align: right;\">  exp1</th><th style=\"text-align: right;\">  exp2</th><th style=\"text-align: right;\">  exp3</th></tr>\n",
       "</thead>\n",
       "<tbody>\n",
       "<tr><td>exp1</td><td style=\"text-align: right;\">     1</td><td style=\"text-align: right;\">  0.33</td><td style=\"text-align: right;\">     0</td></tr>\n",
       "<tr><td>exp2</td><td style=\"text-align: right;\">      </td><td style=\"text-align: right;\">     1</td><td style=\"text-align: right;\">     0</td></tr>\n",
       "<tr><td>exp3</td><td style=\"text-align: right;\">      </td><td style=\"text-align: right;\">      </td><td style=\"text-align: right;\">     1</td></tr>\n",
       "</tbody>\n",
       "</table>"
      ],
      "text/plain": [
       "'<table>\\n<thead>\\n<tr><th>    </th><th style=\"text-align: right;\">  exp1</th><th style=\"text-align: right;\">  exp2</th><th style=\"text-align: right;\">  exp3</th></tr>\\n</thead>\\n<tbody>\\n<tr><td>exp1</td><td style=\"text-align: right;\">     1</td><td style=\"text-align: right;\">  0.33</td><td style=\"text-align: right;\">     0</td></tr>\\n<tr><td>exp2</td><td style=\"text-align: right;\">      </td><td style=\"text-align: right;\">     1</td><td style=\"text-align: right;\">     0</td></tr>\\n<tr><td>exp3</td><td style=\"text-align: right;\">      </td><td style=\"text-align: right;\">      </td><td style=\"text-align: right;\">     1</td></tr>\\n</tbody>\\n</table>'"
      ]
     },
     "execution_count": 4,
     "metadata": {},
     "output_type": "execute_result"
    }
   ],
   "source": [
    "# simple plotting - array with several elements\n",
    "np.random.seed(1)\n",
    "data = [[np.random.randn(100), np.random.randn(100), np.random.randn(100)+4]]\n",
    "data_labels = [('ds1', ['exp1', 'exp2', 'exp3'])]\n",
    "\n",
    "tabulate_pairwise(\n",
    "    data, \n",
    "    labels=data_labels, \n",
    "    pairwise_mode='upper_triangle',\n",
    "    cell_format='{:.2f}')"
   ]
  },
  {
   "cell_type": "code",
   "execution_count": 5,
   "metadata": {},
   "outputs": [
    {
     "data": {
      "text/html": [
       "<table>\n",
       "<thead>\n",
       "<tr><th>    </th><th style=\"text-align: right;\">  exp2</th><th style=\"text-align: right;\">  exp3</th></tr>\n",
       "</thead>\n",
       "<tbody>\n",
       "<tr><td>exp1</td><td style=\"text-align: right;\">  0.33</td><td style=\"text-align: right;\">     0</td></tr>\n",
       "<tr><td>exp2</td><td style=\"text-align: right;\">      </td><td style=\"text-align: right;\">     0</td></tr>\n",
       "</tbody>\n",
       "</table>"
      ],
      "text/plain": [
       "'<table>\\n<thead>\\n<tr><th>    </th><th style=\"text-align: right;\">  exp2</th><th style=\"text-align: right;\">  exp3</th></tr>\\n</thead>\\n<tbody>\\n<tr><td>exp1</td><td style=\"text-align: right;\">  0.33</td><td style=\"text-align: right;\">     0</td></tr>\\n<tr><td>exp2</td><td style=\"text-align: right;\">      </td><td style=\"text-align: right;\">     0</td></tr>\\n</tbody>\\n</table>'"
      ]
     },
     "execution_count": 5,
     "metadata": {},
     "output_type": "execute_result"
    }
   ],
   "source": [
    "# simple plotting - array with several elements\n",
    "np.random.seed(1)\n",
    "data = [[np.random.randn(100), np.random.randn(100), np.random.randn(100)+4]]\n",
    "data_labels = [('ds1', ['exp1', 'exp2', 'exp3'])]\n",
    "\n",
    "tabulate_pairwise(\n",
    "    data, \n",
    "    labels=data_labels, \n",
    "    pairwise_mode='upper_triangle_not_identity',\n",
    "    cell_format='{:.2f}')"
   ]
  },
  {
   "cell_type": "code",
   "execution_count": 6,
   "metadata": {},
   "outputs": [
    {
     "data": {
      "text/html": [
       "<table>\n",
       "<thead>\n",
       "<tr><th>    </th><th style=\"text-align: right;\">  exp1</th><th style=\"text-align: right;\">  exp2</th><th style=\"text-align: right;\">  exp3</th></tr>\n",
       "</thead>\n",
       "<tbody>\n",
       "<tr><td>exp1</td><td style=\"text-align: right;\">     1</td><td style=\"text-align: right;\">      </td><td style=\"text-align: right;\">      </td></tr>\n",
       "<tr><td>exp2</td><td style=\"text-align: right;\">  0.33</td><td style=\"text-align: right;\">     1</td><td style=\"text-align: right;\">      </td></tr>\n",
       "<tr><td>exp3</td><td style=\"text-align: right;\">     0</td><td style=\"text-align: right;\">     0</td><td style=\"text-align: right;\">     1</td></tr>\n",
       "</tbody>\n",
       "</table>"
      ],
      "text/plain": [
       "'<table>\\n<thead>\\n<tr><th>    </th><th style=\"text-align: right;\">  exp1</th><th style=\"text-align: right;\">  exp2</th><th style=\"text-align: right;\">  exp3</th></tr>\\n</thead>\\n<tbody>\\n<tr><td>exp1</td><td style=\"text-align: right;\">     1</td><td style=\"text-align: right;\">      </td><td style=\"text-align: right;\">      </td></tr>\\n<tr><td>exp2</td><td style=\"text-align: right;\">  0.33</td><td style=\"text-align: right;\">     1</td><td style=\"text-align: right;\">      </td></tr>\\n<tr><td>exp3</td><td style=\"text-align: right;\">     0</td><td style=\"text-align: right;\">     0</td><td style=\"text-align: right;\">     1</td></tr>\\n</tbody>\\n</table>'"
      ]
     },
     "execution_count": 6,
     "metadata": {},
     "output_type": "execute_result"
    }
   ],
   "source": [
    "# simple plotting - array with several elements\n",
    "np.random.seed(1)\n",
    "data = [[np.random.randn(100), np.random.randn(100), np.random.randn(100)+4]]\n",
    "data_labels = [('ds1', ['exp1', 'exp2', 'exp3'])]\n",
    "\n",
    "tabulate_pairwise(\n",
    "    data, \n",
    "    labels=data_labels, \n",
    "    pairwise_mode='lower_triangle',\n",
    "    cell_format='{:.2f}')"
   ]
  },
  {
   "cell_type": "code",
   "execution_count": 7,
   "metadata": {},
   "outputs": [
    {
     "data": {
      "text/html": [
       "<table>\n",
       "<thead>\n",
       "<tr><th>    </th><th style=\"text-align: right;\">  exp1</th><th style=\"text-align: right;\">  exp2</th></tr>\n",
       "</thead>\n",
       "<tbody>\n",
       "<tr><td>exp2</td><td style=\"text-align: right;\">  0.33</td><td style=\"text-align: right;\">      </td></tr>\n",
       "<tr><td>exp3</td><td style=\"text-align: right;\">     0</td><td style=\"text-align: right;\">     0</td></tr>\n",
       "</tbody>\n",
       "</table>"
      ],
      "text/plain": [
       "'<table>\\n<thead>\\n<tr><th>    </th><th style=\"text-align: right;\">  exp1</th><th style=\"text-align: right;\">  exp2</th></tr>\\n</thead>\\n<tbody>\\n<tr><td>exp2</td><td style=\"text-align: right;\">  0.33</td><td style=\"text-align: right;\">      </td></tr>\\n<tr><td>exp3</td><td style=\"text-align: right;\">     0</td><td style=\"text-align: right;\">     0</td></tr>\\n</tbody>\\n</table>'"
      ]
     },
     "execution_count": 7,
     "metadata": {},
     "output_type": "execute_result"
    }
   ],
   "source": [
    "# simple plotting - array with several elements\n",
    "np.random.seed(1)\n",
    "data = [[np.random.randn(100), np.random.randn(100), np.random.randn(100)+4]]\n",
    "data_labels = [('ds1', ['exp1', 'exp2', 'exp3'])]\n",
    "\n",
    "tabulate_pairwise(\n",
    "    data, \n",
    "    labels=data_labels, \n",
    "    pairwise_mode='lower_triangle_not_identity',\n",
    "    cell_format='{:.2f}')"
   ]
  },
  {
   "cell_type": "code",
   "execution_count": 8,
   "metadata": {},
   "outputs": [
    {
     "data": {
      "text/html": [
       "<table>\n",
       "<thead>\n",
       "<tr><th>p   </th><th>exp1    </th><th>exp2    </th></tr>\n",
       "</thead>\n",
       "<tbody>\n",
       "<tr><td>exp2</td><td>0.325   </td><td>        </td></tr>\n",
       "<tr><td>exp3</td><td>p &lt; 0.01</td><td>p &lt; 0.01</td></tr>\n",
       "</tbody>\n",
       "</table>"
      ],
      "text/plain": [
       "'<table>\\n<thead>\\n<tr><th>p   </th><th>exp1    </th><th>exp2    </th></tr>\\n</thead>\\n<tbody>\\n<tr><td>exp2</td><td>0.325   </td><td>        </td></tr>\\n<tr><td>exp3</td><td>p &lt; 0.01</td><td>p &lt; 0.01</td></tr>\\n</tbody>\\n</table>'"
      ]
     },
     "execution_count": 8,
     "metadata": {},
     "output_type": "execute_result"
    }
   ],
   "source": [
    "# simple plotting - array with several elements\n",
    "np.random.seed(1)\n",
    "data = [[np.random.randn(100), np.random.randn(100), np.random.randn(100)+4]]\n",
    "data_labels = [('ds1', ['exp1', 'exp2', 'exp3'])]\n",
    "\n",
    "def cell_formater(num):\n",
    "    if num < 0.01:\n",
    "        return 'p < 0.01'\n",
    "    else:\n",
    "        return '{:.3f}'.format(num)\n",
    "    \n",
    "tabulate_pairwise(\n",
    "    data, \n",
    "    labels=data_labels, \n",
    "    pairwise_mode='lower_triangle_not_identity',\n",
    "    cell_format=cell_formater,\n",
    "    top_left_cell_content='p')"
   ]
  }
 ],
 "metadata": {
  "kernelspec": {
   "display_name": "Python 3",
   "language": "python",
   "name": "python3"
  },
  "language_info": {
   "codemirror_mode": {
    "name": "ipython",
    "version": 3
   },
   "file_extension": ".py",
   "mimetype": "text/x-python",
   "name": "python",
   "nbconvert_exporter": "python",
   "pygments_lexer": "ipython3",
   "version": "3.6.12"
  }
 },
 "nbformat": 4,
 "nbformat_minor": 4
}
