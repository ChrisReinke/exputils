{
 "cells": [
  {
   "cell_type": "code",
   "execution_count": 1,
   "metadata": {},
   "outputs": [],
   "source": [
    "from exputils.gui.jupyter import RepetitionIDsSelectionWidget\n",
    "\n",
    "experiment_data = {\n",
    "    'exp0': None,\n",
    "    'exp1': None}\n",
    "\n",
    "experiment_descriptions = {\n",
    "    'exp0': {'id': 'exp0', 'name': 'Experiment 0', 'is_load_data': True, 'directory': 'path\\to\\exp0',\n",
    "             'short_name': 'e0', 'description': 'descr0', 'repetition_ids': [0,1,2,3]},\n",
    "    'exp1': {'id': 'exp1', 'name': 'Experiment 1', 'is_load_data': True, 'directory': 'path\\to\\exp1',\n",
    "             'short_name': 'e1', 'description': 'descr1', 'repetition_ids': [0,1,2,3,4,5]}}\n",
    "\n",
    "def selection_changed_handler(event):\n",
    "    print('on_selection_changed:')\n",
    "    print('\\t repetition ids: {}'.format(event['owner'].selected_repetition_ids))\n"
   ]
  },
  {
   "cell_type": "markdown",
   "metadata": {},
   "source": [
    "# Basic Functionality"
   ]
  },
  {
   "cell_type": "code",
   "execution_count": 2,
   "metadata": {},
   "outputs": [
    {
     "data": {
      "application/vnd.jupyter.widget-view+json": {
       "model_id": "c6cc5c094e8c4a71bbb44277e342545b",
       "version_major": 2,
       "version_minor": 0
      },
      "text/plain": [
       "RepetitionIDsSelectionWidget(children=(Accordion(children=(VBox(children=(Checkbox(value=True, description='al…"
      ]
     },
     "metadata": {},
     "output_type": "display_data"
    }
   ],
   "source": [
    "# experiment_data and experiment_descriptions input\n",
    "edsw = RepetitionIDsSelectionWidget(experiment_data, experiment_descriptions)\n",
    "edsw.on_selection_changed(selection_changed_handler)\n",
    "\n",
    "edsw"
   ]
  },
  {
   "cell_type": "code",
   "execution_count": 3,
   "metadata": {},
   "outputs": [
    {
     "data": {
      "application/vnd.jupyter.widget-view+json": {
       "model_id": "0ce791fe78d14b828833f791596d31d6",
       "version_major": 2,
       "version_minor": 0
      },
      "text/plain": [
       "RepetitionIDsSelectionWidget(children=(Accordion(children=(VBox(children=(Checkbox(value=True, description='al…"
      ]
     },
     "metadata": {},
     "output_type": "display_data"
    }
   ],
   "source": [
    "# only experiment_data input\n",
    "edsw = RepetitionIDsSelectionWidget(experiment_data)\n",
    "edsw.on_selection_changed(selection_changed_handler)\n",
    "\n",
    "edsw"
   ]
  },
  {
   "cell_type": "markdown",
   "metadata": {},
   "source": [
    "# Setter Functionality"
   ]
  },
  {
   "cell_type": "code",
   "execution_count": 4,
   "metadata": {},
   "outputs": [
    {
     "data": {
      "application/vnd.jupyter.widget-view+json": {
       "model_id": "7af53a1fc0014cf5891e4abaf8fddedd",
       "version_major": 2,
       "version_minor": 0
      },
      "text/plain": [
       "RepetitionIDsSelectionWidget(children=(Accordion(children=(VBox(children=(Checkbox(value=True, description='al…"
      ]
     },
     "metadata": {},
     "output_type": "display_data"
    },
    {
     "name": "stdout",
     "output_type": "stream",
     "text": [
      "on_selection_changed:\n",
      "\t repetition ids: [1, 2, 3]\n"
     ]
    }
   ],
   "source": [
    "ridsw = RepetitionIDsSelectionWidget(experiment_data, experiment_descriptions)\n",
    "ridsw.on_selection_changed(selection_changed_handler)\n",
    "display(ridsw)\n",
    "\n",
    "ridsw.selected_repetition_ids = [1,2,3]"
   ]
  },
  {
   "cell_type": "code",
   "execution_count": 5,
   "metadata": {},
   "outputs": [
    {
     "name": "stdout",
     "output_type": "stream",
     "text": [
      "on_selection_changed:\n",
      "\t repetition ids: all\n"
     ]
    }
   ],
   "source": [
    "ridsw.selected_repetition_ids = 'all'"
   ]
  },
  {
   "cell_type": "code",
   "execution_count": 6,
   "metadata": {},
   "outputs": [
    {
     "name": "stdout",
     "output_type": "stream",
     "text": [
      "on_selection_changed:\n",
      "\t repetition ids: []\n"
     ]
    }
   ],
   "source": [
    "ridsw.selected_repetition_ids = []"
   ]
  }
 ],
 "metadata": {
  "kernelspec": {
   "display_name": "Python 3",
   "language": "python",
   "name": "python3"
  },
  "language_info": {
   "codemirror_mode": {
    "name": "ipython",
    "version": 3
   },
   "file_extension": ".py",
   "mimetype": "text/x-python",
   "name": "python",
   "nbconvert_exporter": "python",
   "pygments_lexer": "ipython3",
   "version": "3.6.12"
  }
 },
 "nbformat": 4,
 "nbformat_minor": 4
}
