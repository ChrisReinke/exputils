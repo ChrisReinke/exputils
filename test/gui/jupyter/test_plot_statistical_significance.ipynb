{
 "cells": [
  {
   "cell_type": "code",
   "execution_count": 1,
   "metadata": {},
   "outputs": [],
   "source": [
    "# general imports\n",
    "import numpy as np\n",
    "from exputils.gui.jupyter import plot_statistical_significance"
   ]
  },
  {
   "cell_type": "code",
   "execution_count": 2,
   "metadata": {
    "code_folding": []
   },
   "outputs": [
    {
     "name": "stdout",
     "output_type": "stream",
     "text": [
      "['exp1', 'exp2', 'exp2']\n",
      "\\begin{tabular}{lll}\n",
      "\\hline\n",
      "      & exp2    & exp2    \\\\\n",
      "\\hline\n",
      " exp1 & $1.000$ & $1.000$ \\\\\n",
      " exp2 &         & $1.000$ \\\\\n",
      "\\hline\n",
      "\\end{tabular}\n"
     ]
    },
    {
     "data": {
      "text/html": [
       "<table>\n",
       "<thead>\n",
       "<tr><th>    </th><th>exp2   </th><th>exp2   </th></tr>\n",
       "</thead>\n",
       "<tbody>\n",
       "<tr><td>exp1</td><td>$1.000$</td><td>$1.000$</td></tr>\n",
       "<tr><td>exp2</td><td>       </td><td>$1.000$</td></tr>\n",
       "</tbody>\n",
       "</table>"
      ],
      "text/plain": [
       "'<table>\\n<thead>\\n<tr><th>    </th><th>exp2   </th><th>exp2   </th></tr>\\n</thead>\\n<tbody>\\n<tr><td>exp1</td><td>$1.000$</td><td>$1.000$</td></tr>\\n<tr><td>exp2</td><td>       </td><td>$1.000$</td></tr>\\n</tbody>\\n</table>'"
      ]
     },
     "metadata": {},
     "output_type": "display_data"
    }
   ],
   "source": [
    "# scalar values\n",
    "data = [[3,5,6]]\n",
    "data_labels = [('ds1', ['exp1', 'exp2', 'exp2'])]\n",
    "\n",
    "plot_statistical_significance(data, labels=data_labels)"
   ]
  },
  {
   "cell_type": "code",
   "execution_count": 3,
   "metadata": {},
   "outputs": [
    {
     "name": "stdout",
     "output_type": "stream",
     "text": [
      "['exp1', 'exp2', 'exp3']\n",
      "\\begin{tabular}{lll}\n",
      "\\hline\n",
      "      & exp2    & exp3     \\\\\n",
      "\\hline\n",
      " exp1 & $0.067$ & $<0.001$ \\\\\n",
      " exp2 &         & $<0.001$ \\\\\n",
      "\\hline\n",
      "\\end{tabular}\n"
     ]
    },
    {
     "data": {
      "text/html": [
       "<table>\n",
       "<thead>\n",
       "<tr><th>    </th><th>exp2   </th><th>exp3    </th></tr>\n",
       "</thead>\n",
       "<tbody>\n",
       "<tr><td>exp1</td><td>$0.067$</td><td>$&lt;0.001$</td></tr>\n",
       "<tr><td>exp2</td><td>       </td><td>$&lt;0.001$</td></tr>\n",
       "</tbody>\n",
       "</table>"
      ],
      "text/plain": [
       "'<table>\\n<thead>\\n<tr><th>    </th><th>exp2   </th><th>exp3    </th></tr>\\n</thead>\\n<tbody>\\n<tr><td>exp1</td><td>$0.067$</td><td>$&lt;0.001$</td></tr>\\n<tr><td>exp2</td><td>       </td><td>$&lt;0.001$</td></tr>\\n</tbody>\\n</table>'"
      ]
     },
     "metadata": {},
     "output_type": "display_data"
    }
   ],
   "source": [
    "# simple plotting - array with several elements\n",
    "data = [[np.random.randn(100), np.random.randn(100), np.random.randn(100)+4]]\n",
    "data_labels = [('ds1', ['exp1', 'exp2', 'exp3'])]\n",
    "\n",
    "plot_statistical_significance(data, labels=data_labels)"
   ]
  },
  {
   "cell_type": "code",
   "execution_count": 4,
   "metadata": {},
   "outputs": [
    {
     "name": "stdout",
     "output_type": "stream",
     "text": [
      "['exp1', 'exp2']\n",
      "\\begin{tabular}{ll}\n",
      "\\hline\n",
      "      & exp2    \\\\\n",
      "\\hline\n",
      " exp1 & $0.953$ \\\\\n",
      "\\hline\n",
      "\\end{tabular}\n"
     ]
    },
    {
     "data": {
      "text/html": [
       "<table>\n",
       "<thead>\n",
       "<tr><th>    </th><th>exp2   </th></tr>\n",
       "</thead>\n",
       "<tbody>\n",
       "<tr><td>exp1</td><td>$0.953$</td></tr>\n",
       "</tbody>\n",
       "</table>"
      ],
      "text/plain": [
       "'<table>\\n<thead>\\n<tr><th>    </th><th>exp2   </th></tr>\\n</thead>\\n<tbody>\\n<tr><td>exp1</td><td>$0.953$</td></tr>\\n</tbody>\\n</table>'"
      ]
     },
     "metadata": {},
     "output_type": "display_data"
    }
   ],
   "source": [
    "# simple plotting - two groups of each 100 points group \n",
    "data = [np.random.randn(2,100), np.random.randn(2,100)]\n",
    "data_labels = [('ds1', ['exp1', 'exp2'])]\n",
    "\n",
    "plot_statistical_significance(data, labels=data_labels)"
   ]
  },
  {
   "cell_type": "code",
   "execution_count": 5,
   "metadata": {},
   "outputs": [
    {
     "name": "stdout",
     "output_type": "stream",
     "text": [
      "['exp1', 'exp2']\n",
      "\\begin{tabular}{ll}\n",
      "\\hline\n",
      "      & exp2    \\\\\n",
      "\\hline\n",
      " exp1 & $0.115$ \\\\\n",
      "\\hline\n",
      "\\end{tabular}\n"
     ]
    },
    {
     "data": {
      "text/html": [
       "<table>\n",
       "<thead>\n",
       "<tr><th>    </th><th>exp2   </th></tr>\n",
       "</thead>\n",
       "<tbody>\n",
       "<tr><td>exp1</td><td>$0.115$</td></tr>\n",
       "</tbody>\n",
       "</table>"
      ],
      "text/plain": [
       "'<table>\\n<thead>\\n<tr><th>    </th><th>exp2   </th></tr>\\n</thead>\\n<tbody>\\n<tr><td>exp1</td><td>$0.115$</td></tr>\\n</tbody>\\n</table>'"
      ]
     },
     "metadata": {},
     "output_type": "display_data"
    },
    {
     "name": "stdout",
     "output_type": "stream",
     "text": [
      "['exp3', 'exp4']\n",
      "\\begin{tabular}{ll}\n",
      "\\hline\n",
      "      & exp4    \\\\\n",
      "\\hline\n",
      " exp3 & $0.673$ \\\\\n",
      "\\hline\n",
      "\\end{tabular}\n"
     ]
    },
    {
     "data": {
      "text/html": [
       "<table>\n",
       "<thead>\n",
       "<tr><th>    </th><th>exp4   </th></tr>\n",
       "</thead>\n",
       "<tbody>\n",
       "<tr><td>exp3</td><td>$0.673$</td></tr>\n",
       "</tbody>\n",
       "</table>"
      ],
      "text/plain": [
       "'<table>\\n<thead>\\n<tr><th>    </th><th>exp4   </th></tr>\\n</thead>\\n<tbody>\\n<tr><td>exp3</td><td>$0.673$</td></tr>\\n</tbody>\\n</table>'"
      ]
     },
     "metadata": {},
     "output_type": "display_data"
    }
   ],
   "source": [
    "# simple plotting, 2 subfigures\n",
    "data = [[np.random.randn(100), np.random.randn(100)],\n",
    "        [np.random.randn(100), np.random.randn(100)]]\n",
    "data_labels = [('sub_fig1', ['exp1', 'exp2']),\n",
    "               ('sub_fig2', ['exp3', 'exp4'])]\n",
    "\n",
    "plot_statistical_significance(data, labels=data_labels)"
   ]
  }
 ],
 "metadata": {
  "kernelspec": {
   "display_name": "Python 3",
   "language": "python",
   "name": "python3"
  },
  "language_info": {
   "codemirror_mode": {
    "name": "ipython",
    "version": 3
   },
   "file_extension": ".py",
   "mimetype": "text/x-python",
   "name": "python",
   "nbconvert_exporter": "python",
   "pygments_lexer": "ipython3",
   "version": "3.6.12"
  }
 },
 "nbformat": 4,
 "nbformat_minor": 4
}
