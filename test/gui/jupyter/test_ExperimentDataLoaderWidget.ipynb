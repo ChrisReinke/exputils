{
 "cells": [
  {
   "cell_type": "code",
   "execution_count": 1,
   "metadata": {},
   "outputs": [],
   "source": [
    "import numpy as np\n",
    "import exputils as eu\n",
    "from exputils.gui.jupyter import ExperimentDataLoaderWidget\n",
    "\n",
    "# dumy functions for loading data and descriptions\n",
    "def dumy_load_descriptions(experiments_directory):\n",
    "    \n",
    "    exp_descr = eu.AttrDict()\n",
    "    for exp_idx in range(10):\n",
    "        \n",
    "        exp_descr['{}'.format(exp_idx)] = eu.AttrDict(\n",
    "            {'id': '{}'.format(exp_idx),\n",
    "             'name': 'Experiment {}'.format(exp_idx),\n",
    "             'short_name': 'e{}'.format(exp_idx),\n",
    "             'is_load_data': True,\n",
    "             'directory': './path/to/exp{}'.format(exp_idx),\n",
    "             'description': 'descr for experiment {}'.format(exp_idx)})\n",
    "\n",
    "    return exp_descr\n",
    "\n",
    "\n",
    "def dumy_load_data(exp_descriptions):\n",
    "    data = []\n",
    "    for exp_id, exp_descr in exp_descriptions.items():\n",
    "        if exp_descr.is_load_data:\n",
    "            data.append(exp_descr.id)\n",
    "    return data\n",
    "\n",
    "\n",
    "def on_experiment_descriptions_updated_handler(event_descr):\n",
    "    print(event_descr['new'])\n",
    "\n",
    "def on_experiment_data_loaded_handler(event_descr):\n",
    "    print(event_descr['new'])"
   ]
  },
  {
   "cell_type": "code",
   "execution_count": 2,
   "metadata": {},
   "outputs": [
    {
     "data": {
      "application/vnd.jupyter.widget-view+json": {
       "model_id": "0365afdebd5f4b6faac37588701f6072",
       "version_major": 2,
       "version_minor": 0
      },
      "text/plain": [
       "ExperimentDataLoaderWidget(children=(Box(children=(Button(description='Update Descriptions', layout=Layout(hei…"
      ]
     },
     "metadata": {},
     "output_type": "display_data"
    },
    {
     "data": {
      "application/vnd.jupyter.widget-view+json": {
       "model_id": "5f4fb43abb5f4772be316e70413c764b",
       "version_major": 2,
       "version_minor": 0
      },
      "text/plain": [
       "Output()"
      ]
     },
     "metadata": {},
     "output_type": "display_data"
    }
   ],
   "source": [
    "exp_data_loader = ExperimentDataLoaderWidget(\n",
    "    load_experiment_descriptions_function=dumy_load_descriptions,\n",
    "    load_experiment_data_function=dumy_load_data)\n",
    "\n",
    "# register events\n",
    "exp_data_loader.on_experiment_data_loaded(on_experiment_data_loaded_handler)\n",
    "exp_data_loader.on_experiment_descriptions_updated(on_experiment_descriptions_updated_handler)\n",
    "\n",
    "display(exp_data_loader)"
   ]
  }
 ],
 "metadata": {
  "kernelspec": {
   "display_name": "Python 3",
   "language": "python",
   "name": "python3"
  },
  "language_info": {
   "codemirror_mode": {
    "name": "ipython",
    "version": 3
   },
   "file_extension": ".py",
   "mimetype": "text/x-python",
   "name": "python",
   "nbconvert_exporter": "python",
   "pygments_lexer": "ipython3",
   "version": "3.6.12"
  }
 },
 "nbformat": 4,
 "nbformat_minor": 4
}
