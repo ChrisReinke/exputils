{
 "cells": [
  {
   "cell_type": "code",
   "execution_count": null,
   "metadata": {},
   "outputs": [],
   "source": [
    "# general imports\n",
    "import numpy as np\n",
    "import exputils\n",
    "from exputils.gui.jupyter import tabulate_meanstd"
   ]
  },
  {
   "cell_type": "code",
   "execution_count": null,
   "metadata": {},
   "outputs": [],
   "source": [
    "# simple plotting - array with several elements\n",
    "np.random.seed(1)\n",
    "data = [[np.random.randn(100), np.random.randn(100)*2, np.random.randn(100)+4],\n",
    "        [np.random.randn(100), np.random.randn(100)*2, np.random.randn(100)+5]]\n",
    "data_labels = [('ds1', ['exp1', 'exp2', 'exp3']),\n",
    "               ('ds2', ['exp1', 'exp2', 'exp3'])]\n",
    "\n",
    "tabulate_meanstd(data, labels=data_labels)"
   ]
  },
  {
   "cell_type": "code",
   "execution_count": null,
   "metadata": {},
   "outputs": [],
   "source": [
    "# simple plotting - array with mpty element\n",
    "np.random.seed(2)\n",
    "data = [[np.random.randn(100), np.random.randn(100)*2, None],\n",
    "        [np.random.randn(100), np.random.randn(100)*2, np.random.randn(100)+5]]\n",
    "data_labels = [('ds1', [('exp1', []), ('exp2', []), ('exp3', [])]),\n",
    "               ('ds2', [('exp1', []), ('exp2', []), ('exp3', [])])]\n",
    "\n",
    "tabulate_meanstd(data, labels=data_labels)"
   ]
  },
  {
   "cell_type": "code",
   "execution_count": null,
   "metadata": {},
   "outputs": [],
   "source": [
    "# different cell format\n",
    "\n",
    "np.random.seed(2)\n",
    "data = [[np.random.randn(100), np.random.randn(100)*2, None],\n",
    "        [np.random.randn(100), np.random.randn(100)*2, np.random.randn(100)+5]]\n",
    "data_labels = [('ds1', [('exp1', []), ('exp2', []), ('exp3', [])]),\n",
    "               ('ds2', [('exp1', []), ('exp2', []), ('exp3', [])])]\n",
    "\n",
    "tabulate_meanstd(data, labels=data_labels, cell_format='{:.1f} [{:.1f}]')"
   ]
  },
  {
   "cell_type": "code",
   "execution_count": null,
   "metadata": {},
   "outputs": [],
   "source": [
    "# flip rows and cols\n",
    "\n",
    "np.random.seed(2)\n",
    "data = [[np.random.randn(100), np.random.randn(100)*2, None],\n",
    "        [np.random.randn(100), np.random.randn(100)*2, np.random.randn(100)+5]]\n",
    "data_labels = [('ds1', [('exp1', []), ('exp2', []), ('exp3', [])]),\n",
    "               ('ds2', [('exp1', []), ('exp2', []), ('exp3', [])])]\n",
    "\n",
    "tabulate_meanstd(data, labels=data_labels, flip_rows_and_cols=True)"
   ]
  }
 ],
 "metadata": {
  "kernelspec": {
   "display_name": "Python 3",
   "language": "python",
   "name": "python3"
  },
  "language_info": {
   "codemirror_mode": {
    "name": "ipython",
    "version": 3
   },
   "file_extension": ".py",
   "mimetype": "text/x-python",
   "name": "python",
   "nbconvert_exporter": "python",
   "pygments_lexer": "ipython3",
   "version": "3.6.12"
  }
 },
 "nbformat": 4,
 "nbformat_minor": 4
}
