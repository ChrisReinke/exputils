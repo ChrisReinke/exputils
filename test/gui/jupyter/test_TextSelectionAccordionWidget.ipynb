{
 "cells": [
  {
   "cell_type": "code",
   "execution_count": 1,
   "metadata": {},
   "outputs": [],
   "source": [
    "import exputils as eu\n",
    "from exputils.gui.jupyter import TextSelectionAccordionWidget\n",
    "\n",
    "choices = [idx for idx in range(10, 15)]\n",
    "\n",
    "# def on_selection_changed_handler(event):\n",
    "#     print(event['owner'].selected_choices)\n",
    "#     print(event['owner'].selected_choices_idxs)\n",
    "#     print(event['owner'].selected_choices_inds)"
   ]
  },
  {
   "cell_type": "markdown",
   "metadata": {},
   "source": [
    "# Standard Functionality"
   ]
  },
  {
   "cell_type": "code",
   "execution_count": 2,
   "metadata": {
    "code_folding": []
   },
   "outputs": [
    {
     "data": {
      "application/vnd.jupyter.widget-view+json": {
       "model_id": "ee37353a45124365ad9c301cd75711dc",
       "version_major": 2,
       "version_minor": 0
      },
      "text/plain": [
       "TextSelectionAccordionWidget(children=(VBox(children=(HBox(children=(Label(value='variable 1', layout=Layout(w…"
      ]
     },
     "metadata": {},
     "output_type": "display_data"
    }
   ],
   "source": [
    "\n",
    "config = eu.AttrDict(\n",
    "    selection_elements = [\n",
    "        eu.AttrDict(name='var1', label='variable 1:'),\n",
    "        eu.AttrDict(name='var2', label='variable 2:')\n",
    "    ]\n",
    ")\n",
    "\n",
    "tsaw = TextSelectionAccordionWidget(config)\n",
    "tsaw"
   ]
  }
 ],
 "metadata": {
  "kernelspec": {
   "display_name": "Python 3",
   "language": "python",
   "name": "python3"
  },
  "language_info": {
   "codemirror_mode": {
    "name": "ipython",
    "version": 3
   },
   "file_extension": ".py",
   "mimetype": "text/x-python",
   "name": "python",
   "nbconvert_exporter": "python",
   "pygments_lexer": "ipython3",
   "version": "3.6.12"
  }
 },
 "nbformat": 4,
 "nbformat_minor": 4
}
