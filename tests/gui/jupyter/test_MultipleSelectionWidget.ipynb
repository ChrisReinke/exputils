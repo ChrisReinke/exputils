{
 "cells": [
  {
   "cell_type": "code",
   "execution_count": 1,
   "metadata": {},
   "outputs": [],
   "source": [
    "import exputils as eu\n",
    "from exputils.gui.jupyter import MultiSelectionWidget\n",
    "\n",
    "choices = [idx for idx in range(10, 15)]\n",
    "\n",
    "def on_selection_changed_handler(event):\n",
    "    print(event['owner'].selected_choices)\n",
    "    print(event['owner'].selected_choices_idxs)\n",
    "    print(event['owner'].selected_choices_inds)"
   ]
  },
  {
   "cell_type": "markdown",
   "metadata": {},
   "source": [
    "# Standard Functionality"
   ]
  },
  {
   "cell_type": "code",
   "execution_count": 2,
   "metadata": {
    "code_folding": []
   },
   "outputs": [
    {
     "data": {
      "application/vnd.jupyter.widget-view+json": {
       "model_id": "ef91f9bdd14849db9a575ab29f00a347",
       "version_major": 2,
       "version_minor": 0
      },
      "text/plain": [
       "MultiSelectionWidget(children=(Accordion(children=(VBox(children=(Checkbox(value=True, description='all'), Che…"
      ]
     },
     "metadata": {},
     "output_type": "display_data"
    }
   ],
   "source": [
    "# test events and list of elements\n",
    "msw = MultiSelectionWidget(choices)\n",
    "msw.on_selection_changed(on_selection_changed_handler)\n",
    "\n",
    "msw"
   ]
  },
  {
   "cell_type": "code",
   "execution_count": 3,
   "metadata": {},
   "outputs": [
    {
     "data": {
      "application/vnd.jupyter.widget-view+json": {
       "model_id": "c88ee099683549de81e859e31b8c3e82",
       "version_major": 2,
       "version_minor": 0
      },
      "text/plain": [
       "MultiSelectionWidget(children=(Accordion(children=(VBox(children=(Checkbox(value=True, description='all'), Che…"
      ]
     },
     "metadata": {},
     "output_type": "display_data"
    }
   ],
   "source": [
    "# handle custom title and different input that strings as choices\n",
    "msw = MultiSelectionWidget(choices, title='My Title')\n",
    "msw.on_selection_changed(on_selection_changed_handler)\n",
    "\n",
    "msw"
   ]
  },
  {
   "cell_type": "code",
   "execution_count": 4,
   "metadata": {},
   "outputs": [
    {
     "data": {
      "application/vnd.jupyter.widget-view+json": {
       "model_id": "8db62d16ba8447489849adb07d5adaa7",
       "version_major": 2,
       "version_minor": 0
      },
      "text/plain": [
       "MultiSelectionWidget(children=(Accordion(children=(VBox(children=(Checkbox(value=True, description='all'), Che…"
      ]
     },
     "metadata": {},
     "output_type": "display_data"
    }
   ],
   "source": [
    "# different title labels\n",
    "\n",
    "msw = MultiSelectionWidget(choices, title='TITLE_LABELS', title_labels = ['t {}'.format(c) for c in choices])\n",
    "msw.on_selection_changed(on_selection_changed_handler)\n",
    "\n",
    "msw"
   ]
  },
  {
   "cell_type": "markdown",
   "metadata": {},
   "source": [
    "# None Selection Choice"
   ]
  },
  {
   "cell_type": "code",
   "execution_count": 5,
   "metadata": {
    "scrolled": false
   },
   "outputs": [
    {
     "data": {
      "application/vnd.jupyter.widget-view+json": {
       "model_id": "4c2dde3813604eebbe88636a09cde9a0",
       "version_major": 2,
       "version_minor": 0
      },
      "text/plain": [
       "MultiSelectionWidget(children=(Accordion(children=(VBox(children=(Checkbox(value=False, description='none'), C…"
      ]
     },
     "metadata": {},
     "output_type": "display_data"
    }
   ],
   "source": [
    "# test events and list of elements\n",
    "msw = MultiSelectionWidget(choices, is_select_none_choice=True)\n",
    "msw.on_selection_changed(on_selection_changed_handler)\n",
    "\n",
    "msw"
   ]
  },
  {
   "cell_type": "markdown",
   "metadata": {},
   "source": [
    "# Setter Functions"
   ]
  },
  {
   "cell_type": "code",
   "execution_count": 6,
   "metadata": {},
   "outputs": [
    {
     "data": {
      "application/vnd.jupyter.widget-view+json": {
       "model_id": "1402805c85df4336a83511ee556e5f19",
       "version_major": 2,
       "version_minor": 0
      },
      "text/plain": [
       "MultiSelectionWidget(children=(Accordion(children=(VBox(children=(Checkbox(value=True, description='all'), Che…"
      ]
     },
     "metadata": {},
     "output_type": "display_data"
    },
    {
     "name": "stdout",
     "output_type": "stream",
     "text": [
      "[10, 14]\n",
      "[0, 4]\n",
      "[True, False, False, False, True]\n"
     ]
    }
   ],
   "source": [
    "# test events and list of elements\n",
    "msw = MultiSelectionWidget(choices)\n",
    "msw.on_selection_changed(on_selection_changed_handler)\n",
    "display(msw)\n",
    "\n",
    "msw.selected_choices = [10, 14]"
   ]
  },
  {
   "cell_type": "code",
   "execution_count": 7,
   "metadata": {},
   "outputs": [
    {
     "name": "stdout",
     "output_type": "stream",
     "text": [
      "[10, 11, 12, 13, 14]\n",
      "[0, 1, 2, 3, 4]\n",
      "[True, True, True, True, True]\n"
     ]
    }
   ],
   "source": [
    "msw.selected_choices = 'all'"
   ]
  },
  {
   "cell_type": "code",
   "execution_count": 8,
   "metadata": {},
   "outputs": [
    {
     "name": "stdout",
     "output_type": "stream",
     "text": [
      "[]\n",
      "[]\n",
      "[False, False, False, False, False]\n"
     ]
    }
   ],
   "source": [
    "msw.selected_choices = 'none'"
   ]
  },
  {
   "cell_type": "code",
   "execution_count": 9,
   "metadata": {},
   "outputs": [
    {
     "name": "stdout",
     "output_type": "stream",
     "text": [
      "[10, 13]\n",
      "[0, 3]\n",
      "[True, False, False, True, False]\n"
     ]
    }
   ],
   "source": [
    "msw.selected_choices_idxs = [0, 3]"
   ]
  },
  {
   "cell_type": "code",
   "execution_count": 10,
   "metadata": {},
   "outputs": [
    {
     "name": "stdout",
     "output_type": "stream",
     "text": [
      "[13]\n",
      "[3]\n",
      "[False, False, False, True, False]\n"
     ]
    }
   ],
   "source": [
    "msw.selected_choices_inds = [False, False, False, True, False]"
   ]
  }
 ],
 "metadata": {
  "kernelspec": {
   "display_name": "Python 3",
   "language": "python",
   "name": "python3"
  },
  "language_info": {
   "codemirror_mode": {
    "name": "ipython",
    "version": 3
   },
   "file_extension": ".py",
   "mimetype": "text/x-python",
   "name": "python",
   "nbconvert_exporter": "python",
   "pygments_lexer": "ipython3",
   "version": "3.6.12"
  }
 },
 "nbformat": 4,
 "nbformat_minor": 4
}
