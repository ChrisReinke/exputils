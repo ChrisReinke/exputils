{
 "cells": [
  {
   "cell_type": "code",
   "execution_count": null,
   "metadata": {},
   "outputs": [],
   "source": [
    "# test create_new_cell\n",
    "import exputils as eu\n",
    "\n",
    "eu.gui.jupyter.create_new_cell(r\"print('Hello World')\")"
   ]
  },
  {
   "cell_type": "code",
   "execution_count": null,
   "metadata": {},
   "outputs": [],
   "source": [
    "# test writing of config\n",
    "import exputils as eu\n",
    "import numpy as np\n",
    "import shutil\n",
    "import os\n",
    "\n",
    "if os.path.isdir(eu.gui.jupyter.DEFAULT_CONFIG_DIRECTORY):\n",
    "    shutil.rmtree(eu.gui.jupyter.DEFAULT_CONFIG_DIRECTORY)\n",
    "\n",
    "myconfig = dict(\n",
    "    nparray = np.random.rand(3),\n",
    "    scalar = 2.0,\n",
    "    subdict = dict(scalar = 3.0))\n",
    "\n",
    "eu.gui.jupyter.save_config(myconfig, 'test_config')\n",
    "loaded_config = eu.gui.jupyter.load_config('test_config')\n",
    "\n",
    "if eu.misc.dict_equal(myconfig, loaded_config):\n",
    "    print('OK')\n",
    "else:\n",
    "    print('ERROR !!!')\n",
    "\n",
    "shutil.rmtree(eu.gui.jupyter.DEFAULT_CONFIG_DIRECTORY)\n",
    "\n",
    "\n",
    "#######\n",
    "# load nonexistsing config \n",
    "\n",
    "loaded_config = eu.gui.jupyter.load_config('test_config')\n",
    "if eu.misc.dict_equal({}, loaded_config):\n",
    "    print('OK')\n",
    "else:\n",
    "    print('ERROR !!!')\n",
    "    "
   ]
  }
 ],
 "metadata": {
  "kernelspec": {
   "display_name": "Python 3",
   "language": "python",
   "name": "python3"
  },
  "language_info": {
   "codemirror_mode": {
    "name": "ipython",
    "version": 3
   },
   "file_extension": ".py",
   "mimetype": "text/x-python",
   "name": "python",
   "nbconvert_exporter": "python",
   "pygments_lexer": "ipython3",
   "version": "3.6.15"
  }
 },
 "nbformat": 4,
 "nbformat_minor": 4
}
