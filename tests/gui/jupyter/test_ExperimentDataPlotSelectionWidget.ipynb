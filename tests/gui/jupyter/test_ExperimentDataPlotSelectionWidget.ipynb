{
 "cells": [
  {
   "cell_type": "markdown",
   "metadata": {},
   "source": [
    "# Important: Adapt the data to test the widget!"
   ]
  },
  {
   "cell_type": "code",
   "execution_count": null,
   "metadata": {},
   "outputs": [],
   "source": [
    "from exputils.gui.jupyter import ExperimentDataPlotSelectionWidget\n",
    "import exputils as eu\n",
    "import numpy as np\n",
    "\n",
    "experiment_data = {\n",
    "    'exp0': {'sub_dict_1': {'values': np.array([[10, 11, 12, 13], [20, 21, 22, 23]]),\n",
    "                            'no_rep_stat': np.array([10, 20, 30]),\n",
    "                            'scalar_stat': 1.0},\n",
    "             'sub_dict_2': {'values': np.array([[30, 31, 32, 33], [40, 41, 42, 43]]),\n",
    "                            'no_rep_stat': np.array([110, 120, 130]),\n",
    "                            'scalar_stat': 2.0}},\n",
    "    'exp1': {'sub_dict_1': {'values': np.array([[110, 111, 112, 113], [120, 121, 122, 123]]),\n",
    "                            'no_rep_stat': np.array([210, 220, 230]),\n",
    "                            'scalar_stat': 3.0},\n",
    "             'sub_dict_2': {'values': np.array([[130, 131, 132, 133], [140, 141, 142, 143]]),\n",
    "                            'no_rep_stat': np.array([30, 320, 330]),\n",
    "                            'scalar_stat': 4.0}}}\n",
    "\n",
    "experiment_descriptions = {\n",
    "    'exp0': {'id': 'exp0', 'name': 'Experiment 0', 'is_load_data': True, 'directory': 'path\\to\\exp0',\n",
    "             'short_name': 'e0', 'description': 'descr0', 'repetition_ids': [0,1]},\n",
    "    'exp1': {'id': 'exp1', 'name': 'Experiment 1', 'is_load_data': True, 'directory': 'path\\to\\exp1',\n",
    "             'short_name': 'e1', 'description': 'descr1', 'repetition_ids': [0,1]}}\n",
    "\n",
    "import shutil\n",
    "import os\n",
    "\n",
    "if os.path.isdir(eu.gui.jupyter.DEFAULT_CONFIG_DIRECTORY):\n",
    "    shutil.rmtree(eu.gui.jupyter.DEFAULT_CONFIG_DIRECTORY)\n"
   ]
  },
  {
   "cell_type": "code",
   "execution_count": null,
   "metadata": {
    "scrolled": false
   },
   "outputs": [],
   "source": [
    "display(ExperimentDataPlotSelectionWidget(experiment_data, \n",
    "                                         experiment_descriptions,\n",
    "                                         datasources='sub_dict_1.values'))"
   ]
  }
 ],
 "metadata": {
  "kernelspec": {
   "display_name": "Python 3",
   "language": "python",
   "name": "python3"
  },
  "language_info": {
   "codemirror_mode": {
    "name": "ipython",
    "version": 3
   },
   "file_extension": ".py",
   "mimetype": "text/x-python",
   "name": "python",
   "nbconvert_exporter": "python",
   "pygments_lexer": "ipython3",
   "version": "3.6.12"
  }
 },
 "nbformat": 4,
 "nbformat_minor": 4
}
