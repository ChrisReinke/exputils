{
 "cells": [
  {
   "cell_type": "code",
   "execution_count": 1,
   "metadata": {},
   "outputs": [],
   "source": [
    "import numpy as np\n",
    "from exputils.gui.jupyter import ExperimentDataSelectionWidget\n",
    "\n",
    "experiment_data = {\n",
    "    'exp0': {'sub_dict_1': {'values': np.array([[10, 11, 12, 13], [20, 21, 22, 23]]),\n",
    "                            'no_rep_stat': np.array([10, 20, 30]),\n",
    "                            'scalar_stat': 1.0},\n",
    "             'sub_dict_2': {'values': np.array([[30, 31, 32, 33], [40, 41, 42, 43]]),\n",
    "                            'no_rep_stat': np.array([110, 120, 130]),\n",
    "                            'scalar_stat': 2.0}},\n",
    "    'exp1': {'sub_dict_1': {'values': np.array([[110, 111, 112, 113], [120, 121, 122, 123]]),\n",
    "                            'no_rep_stat': np.array([210, 220, 230]),\n",
    "                            'scalar_stat': 3.0},\n",
    "             'sub_dict_2': {'values': np.array([[130, 131, 132, 133], [140, 141, 142, 143]]),\n",
    "                            'no_rep_stat': np.array([30, 320, 330]),\n",
    "                            'scalar_stat': 4.0}}}\n",
    "\n",
    "experiment_descriptions = {\n",
    "    'exp0': {'id': 'exp0', 'name': 'Experiment 0', 'is_load_data': True, 'directory': 'path\\to\\exp0',\n",
    "             'short_name': 'e0', 'description': 'descr0', 'repetition_ids': [0,1]},\n",
    "    'exp1': {'id': 'exp1', 'name': 'Experiment 1', 'is_load_data': True, 'directory': 'path\\to\\exp1',\n",
    "             'short_name': 'e1', 'description': 'descr1', 'repetition_ids': [0,1]}}\n",
    "\n",
    "\n",
    "def data_collected_handler(event):\n",
    "    print('on_data_collected:')\n",
    "    print('\\t datasources: {}'.format(event['owner'].datasources))\n",
    "    print('\\t experiment_ids: {}'.format(event['owner'].experiment_ids))\n",
    "    print('\\t repetition_ids: {}'.format(event['owner'].repetition_ids))\n",
    "    print('\\t output_format: {}'.format(event['owner'].output_format))\n",
    "    print('\\t data_filter: {}'.format(event['owner'].data_filter))\n",
    "    print('\\t experiment_data:')\n",
    "    print(event['owner'].selected_data)\n",
    "    print('\\t experiment_data_labels:')\n",
    "    print(event['owner'].selected_data_labels)\n",
    "    "
   ]
  },
  {
   "cell_type": "code",
   "execution_count": 2,
   "metadata": {},
   "outputs": [
    {
     "data": {
      "application/vnd.jupyter.widget-view+json": {
       "model_id": "81cb0f4942b74eb3b4b6c128999648ed",
       "version_major": 2,
       "version_minor": 0
      },
      "text/plain": [
       "ExperimentDataSelectionWidget(children=(HBox(children=(Label(value='Experiments:', layout=Layout(min_width='10…"
      ]
     },
     "metadata": {},
     "output_type": "display_data"
    }
   ],
   "source": [
    "selection_widget = ExperimentDataSelectionWidget(experiment_data, experiment_descriptions, datasources=['sub_dict_1.values'], experiment_ids=['exp0', 'exp1'], repetition_ids='all', output_format=('S', 'E', 'D'), data_filter='', state_backup_name='state_backup_28282047', is_datasources_selection=False, is_output_format_selection=False, is_data_filter_selection=False, is_code_producer=False)\n",
    "display(selection_widget)"
   ]
  },
  {
   "cell_type": "code",
   "execution_count": 3,
   "metadata": {},
   "outputs": [
    {
     "data": {
      "application/vnd.jupyter.widget-view+json": {
       "model_id": "60d4fee1d6cf468e86afc6901136366c",
       "version_major": 2,
       "version_minor": 0
      },
      "text/plain": [
       "ExperimentDataSelectionWidget(children=(HBox(children=(Label(value='Experiments:', layout=Layout(min_width='10…"
      ]
     },
     "metadata": {},
     "output_type": "display_data"
    }
   ],
   "source": [
    "selection_widget = ExperimentDataSelectionWidget(\n",
    "    experiment_data, \n",
    "    experiment_descriptions,\n",
    "    datasources=['sub_dict_1.values'],\n",
    "    experiment_ids=['exp0', 'exp1'],\n",
    "    repetition_ids='all',\n",
    "    output_format=('S', 'E', 'D'),\n",
    "    data_filter='',\n",
    "    state_backup_name='state_backup_28282032',\n",
    "    is_datasources_selection=False,\n",
    "    is_output_format_selection=False,\n",
    "    is_data_filter_selection=False,\n",
    "    is_code_producer=False) \n",
    "display(selection_widget)"
   ]
  },
  {
   "cell_type": "code",
   "execution_count": 4,
   "metadata": {},
   "outputs": [
    {
     "data": {
      "application/vnd.jupyter.widget-view+json": {
       "model_id": "59c48777c3df4d80bfa492650fd36cf4",
       "version_major": 2,
       "version_minor": 0
      },
      "text/plain": [
       "ExperimentDataSelectionWidget(children=(HBox(children=(Label(value='Experiments:', layout=Layout(min_width='10…"
      ]
     },
     "metadata": {},
     "output_type": "display_data"
    }
   ],
   "source": [
    "selection_widget = ExperimentDataSelectionWidget(experiment_data, experiment_descriptions, datasources=['sub_dict_1.values'], experiment_ids=['exp0', 'exp1'], repetition_ids='all', output_format=('S', 'E', 'D'), data_filter='', state_backup_name='state_backup_28282047', is_datasources_selection=False, is_output_format_selection=False, is_data_filter_selection=False, is_code_producer=False)\n",
    "display(selection_widget)"
   ]
  },
  {
   "cell_type": "code",
   "execution_count": 5,
   "metadata": {},
   "outputs": [
    {
     "data": {
      "application/vnd.jupyter.widget-view+json": {
       "model_id": "e07f414d2b9644e481b9ab9489af07e2",
       "version_major": 2,
       "version_minor": 0
      },
      "text/plain": [
       "ExperimentDataSelectionWidget(children=(HBox(children=(Label(value='Experiments:', layout=Layout(min_width='10…"
      ]
     },
     "metadata": {},
     "output_type": "display_data"
    }
   ],
   "source": [
    "selection_widget = ExperimentDataSelectionWidget(experiment_data, experiment_descriptions, datasources=['sub_dict_1.values'], experiment_ids=['exp0', 'exp1'], repetition_ids='all', output_format=('S', 'E', 'D'), data_filter='', state_backup_name='state_backup_28282047', is_datasources_selection=False, is_output_format_selection=False, is_data_filter_selection=False, is_code_producer=False)\n",
    "display(selection_widget)"
   ]
  },
  {
   "cell_type": "code",
   "execution_count": 6,
   "metadata": {},
   "outputs": [
    {
     "data": {
      "application/vnd.jupyter.widget-view+json": {
       "model_id": "208e4b82ff0443baa8085d7556da7eeb",
       "version_major": 2,
       "version_minor": 0
      },
      "text/plain": [
       "ExperimentDataSelectionWidget(children=(HBox(children=(Label(value='Experiments:', layout=Layout(min_width='10…"
      ]
     },
     "metadata": {},
     "output_type": "display_data"
    }
   ],
   "source": [
    "selection_widget = ExperimentDataSelectionWidget(\n",
    "    experiment_data, \n",
    "    experiment_descriptions,\n",
    "    datasources=['sub_dict_1.values'],\n",
    "    experiment_ids=['exp0', 'exp1'],\n",
    "    repetition_ids='all',\n",
    "    output_format=('S', 'E', 'D'),\n",
    "    data_filter='',\n",
    "    state_backup_name='state_backup_28282032',\n",
    "    is_datasources_selection=False,\n",
    "    is_output_format_selection=False,\n",
    "    is_data_filter_selection=False,\n",
    "    is_code_producer=False) \n",
    "display(selection_widget)"
   ]
  },
  {
   "cell_type": "code",
   "execution_count": 7,
   "metadata": {},
   "outputs": [
    {
     "data": {
      "application/vnd.jupyter.widget-view+json": {
       "model_id": "7c0db482217c4396a5e27d4fad6b44a6",
       "version_major": 2,
       "version_minor": 0
      },
      "text/plain": [
       "ExperimentDataSelectionWidget(children=(HBox(children=(Label(value='Experiments:', layout=Layout(min_width='10…"
      ]
     },
     "metadata": {},
     "output_type": "display_data"
    }
   ],
   "source": [
    "selection_widget = ExperimentDataSelectionWidget(\n",
    "    experiment_data, \n",
    "    experiment_descriptions,\n",
    "    datasources=['sub_dict_1.values'],\n",
    "    experiment_ids=['exp0', 'exp1'],\n",
    "    repetition_ids='all',\n",
    "    output_format=('S', 'E', 'D'),\n",
    "    data_filter='',\n",
    "    state_backup_name='state_backup_28282032',\n",
    "    is_datasources_selection=False,\n",
    "    is_output_format_selection=False,\n",
    "    is_data_filter_selection=False,\n",
    "    is_code_producer=False) \n",
    "display(selection_widget)"
   ]
  },
  {
   "cell_type": "code",
   "execution_count": 8,
   "metadata": {},
   "outputs": [
    {
     "data": {
      "application/vnd.jupyter.widget-view+json": {
       "model_id": "45bbb074628149338c596f0af35d9090",
       "version_major": 2,
       "version_minor": 0
      },
      "text/plain": [
       "ExperimentDataSelectionWidget(children=(HBox(children=(Label(value='Data Sources:', layout=Layout(min_width='1…"
      ]
     },
     "metadata": {},
     "output_type": "display_data"
    },
    {
     "name": "stdout",
     "output_type": "stream",
     "text": [
      "on_data_collected:\n",
      "\t datasources: ['sub_dict_1.values']\n",
      "\t experiment_ids: ['exp0', 'exp1']\n",
      "\t repetition_ids: all\n",
      "\t output_format: ('S', 'E', 'D')\n",
      "\t data_filter: \n",
      "\t experiment_data:\n",
      "[[array([[10, 11, 12, 13],\n",
      "       [20, 21, 22, 23]]), array([[110, 111, 112, 113],\n",
      "       [120, 121, 122, 123]])]]\n",
      "\t experiment_data_labels:\n",
      "[('sub_dict_1.values', [('Experiment 0', ['e0 - 0', 'e0 - 1']), ('Experiment 1', ['e1 - 0', 'e1 - 1'])])]\n"
     ]
    }
   ],
   "source": [
    "import shutil\n",
    "import os\n",
    "import exputils as eu\n",
    "\n",
    "if os.path.isdir(eu.gui.jupyter.DEFAULT_CONFIG_DIRECTORY):\n",
    "    shutil.rmtree(eu.gui.jupyter.DEFAULT_CONFIG_DIRECTORY)\n",
    "\n",
    "selection_widget = ExperimentDataSelectionWidget(\n",
    "    experiment_data, \n",
    "    experiment_descriptions,\n",
    "    datasources='sub_dict_1.values')\n",
    "selection_widget.on_data_collected(data_collected_handler)\n",
    "display(selection_widget)"
   ]
  }
 ],
 "metadata": {
  "kernelspec": {
   "display_name": "Python 3",
   "language": "python",
   "name": "python3"
  },
  "language_info": {
   "codemirror_mode": {
    "name": "ipython",
    "version": 3
   },
   "file_extension": ".py",
   "mimetype": "text/x-python",
   "name": "python",
   "nbconvert_exporter": "python",
   "pygments_lexer": "ipython3",
   "version": "3.6.12"
  }
 },
 "nbformat": 4,
 "nbformat_minor": 4
}
