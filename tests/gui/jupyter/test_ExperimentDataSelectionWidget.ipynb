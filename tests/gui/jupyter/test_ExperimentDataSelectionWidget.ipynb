{
 "cells": [
  {
   "cell_type": "code",
   "execution_count": 1,
   "metadata": {},
   "outputs": [],
   "source": [
    "import numpy as np\n",
    "from exputils.gui.jupyter import ExperimentDataSelectionWidget\n",
    "\n",
    "experiment_data = {\n",
    "    'exp0': {'sub_dict_1': {'values': np.array([[10, 11, 12, 13], [20, 21, 22, 23]]),\n",
    "                            'no_rep_stat': np.array([10, 20, 30]),\n",
    "                            'scalar_stat': 1.0},\n",
    "             'sub_dict_2': {'values': np.array([[30, 31, 32, 33], [40, 41, 42, 43]]),\n",
    "                            'no_rep_stat': np.array([110, 120, 130]),\n",
    "                            'scalar_stat': 2.0}},\n",
    "    'exp1': {'sub_dict_1': {'values': np.array([[110, 111, 112, 113], [120, 121, 122, 123]]),\n",
    "                            'no_rep_stat': np.array([210, 220, 230]),\n",
    "                            'scalar_stat': 3.0},\n",
    "             'sub_dict_2': {'values': np.array([[130, 131, 132, 133], [140, 141, 142, 143]]),\n",
    "                            'no_rep_stat': np.array([30, 320, 330]),\n",
    "                            'scalar_stat': 4.0}}}\n",
    "\n",
    "experiment_descriptions = {\n",
    "    'exp0': {'id': 'exp0', 'name': 'Experiment 0', 'is_load_data': True, 'directory': 'path\\to\\exp0',\n",
    "             'short_name': 'e0', 'description': 'descr0', 'repetition_ids': [0,1]},\n",
    "    'exp1': {'id': 'exp1', 'name': 'Experiment 1', 'is_load_data': True, 'directory': 'path\\to\\exp1',\n",
    "             'short_name': 'e1', 'description': 'descr1', 'repetition_ids': [0,1]}}\n",
    "\n",
    "\n",
    "def data_collected_handler(event):\n",
    "    print('on_data_collected:')\n",
    "    print('\\t datasources: {}'.format(event['owner'].datasources))\n",
    "    print('\\t experiment_ids: {}'.format(event['owner'].experiment_ids))\n",
    "    print('\\t repetition_ids: {}'.format(event['owner'].repetition_ids))\n",
    "    print('\\t output_format: {}'.format(event['owner'].output_format))\n",
    "    print('\\t data_filter: {}'.format(event['owner'].data_filter))\n",
    "    print('\\t experiment_data:')\n",
    "    print(event['owner'].selected_data)\n",
    "    print('\\t experiment_data_labels:')\n",
    "    print(event['owner'].selected_data_labels)\n",
    "    "
   ]
  },
  {
   "cell_type": "code",
   "execution_count": 2,
   "metadata": {},
   "outputs": [
    {
     "ename": "KeyError",
     "evalue": "'order'",
     "output_type": "error",
     "traceback": [
      "\u001b[0;31m---------------------------------------------------------------------------\u001b[0m",
      "\u001b[0;31mKeyError\u001b[0m                                  Traceback (most recent call last)",
      "\u001b[0;32m<ipython-input-2-fdc33350a790>\u001b[0m in \u001b[0;36m<module>\u001b[0;34m\u001b[0m\n\u001b[0;32m----> 1\u001b[0;31m \u001b[0mselection_widget\u001b[0m \u001b[0;34m=\u001b[0m \u001b[0mExperimentDataSelectionWidget\u001b[0m\u001b[0;34m(\u001b[0m\u001b[0mexperiment_data\u001b[0m\u001b[0;34m,\u001b[0m \u001b[0mexperiment_descriptions\u001b[0m\u001b[0;34m,\u001b[0m \u001b[0mdatasources\u001b[0m\u001b[0;34m=\u001b[0m\u001b[0;34m[\u001b[0m\u001b[0;34m'sub_dict_1.values'\u001b[0m\u001b[0;34m]\u001b[0m\u001b[0;34m,\u001b[0m \u001b[0mexperiment_ids\u001b[0m\u001b[0;34m=\u001b[0m\u001b[0;34m[\u001b[0m\u001b[0;34m'exp0'\u001b[0m\u001b[0;34m,\u001b[0m \u001b[0;34m'exp1'\u001b[0m\u001b[0;34m]\u001b[0m\u001b[0;34m,\u001b[0m \u001b[0mrepetition_ids\u001b[0m\u001b[0;34m=\u001b[0m\u001b[0;34m'all'\u001b[0m\u001b[0;34m,\u001b[0m \u001b[0moutput_format\u001b[0m\u001b[0;34m=\u001b[0m\u001b[0;34m(\u001b[0m\u001b[0;34m'S'\u001b[0m\u001b[0;34m,\u001b[0m \u001b[0;34m'E'\u001b[0m\u001b[0;34m,\u001b[0m \u001b[0;34m'D'\u001b[0m\u001b[0;34m)\u001b[0m\u001b[0;34m,\u001b[0m \u001b[0mdata_filter\u001b[0m\u001b[0;34m=\u001b[0m\u001b[0;34m''\u001b[0m\u001b[0;34m,\u001b[0m \u001b[0mstate_backup_name\u001b[0m\u001b[0;34m=\u001b[0m\u001b[0;34m'state_backup_28282047'\u001b[0m\u001b[0;34m,\u001b[0m \u001b[0mis_datasources_selection\u001b[0m\u001b[0;34m=\u001b[0m\u001b[0;32mFalse\u001b[0m\u001b[0;34m,\u001b[0m \u001b[0mis_output_format_selection\u001b[0m\u001b[0;34m=\u001b[0m\u001b[0;32mFalse\u001b[0m\u001b[0;34m,\u001b[0m \u001b[0mis_data_filter_selection\u001b[0m\u001b[0;34m=\u001b[0m\u001b[0;32mFalse\u001b[0m\u001b[0;34m,\u001b[0m \u001b[0mis_code_producer\u001b[0m\u001b[0;34m=\u001b[0m\u001b[0;32mFalse\u001b[0m\u001b[0;34m)\u001b[0m\u001b[0;34m\u001b[0m\u001b[0;34m\u001b[0m\u001b[0m\n\u001b[0m\u001b[1;32m      2\u001b[0m \u001b[0mdisplay\u001b[0m\u001b[0;34m(\u001b[0m\u001b[0mselection_widget\u001b[0m\u001b[0;34m)\u001b[0m\u001b[0;34m\u001b[0m\u001b[0;34m\u001b[0m\u001b[0m\n",
      "\u001b[0;32m~/data/study/perception/code/exputils/exputils/gui/jupyter/experiment_data_selection_widget.py\u001b[0m in \u001b[0;36m__init__\u001b[0;34m(self, experiment_data_object, experiment_descriptions, config, **kwargs)\u001b[0m\n\u001b[1;32m    178\u001b[0m                 \u001b[0mself\u001b[0m\u001b[0;34m.\u001b[0m\u001b[0mexperiment_data\u001b[0m\u001b[0;34m,\u001b[0m\u001b[0;34m\u001b[0m\u001b[0;34m\u001b[0m\u001b[0m\n\u001b[1;32m    179\u001b[0m                 \u001b[0mexperiment_descriptions\u001b[0m\u001b[0;34m=\u001b[0m\u001b[0mself\u001b[0m\u001b[0;34m.\u001b[0m\u001b[0mexperiment_descriptions\u001b[0m\u001b[0;34m,\u001b[0m\u001b[0;34m\u001b[0m\u001b[0;34m\u001b[0m\u001b[0m\n\u001b[0;32m--> 180\u001b[0;31m                 **self.config.experiment_ids_selection.multiselect)\n\u001b[0m\u001b[1;32m    181\u001b[0m             self.experiment_ids_selection_hbox_widget = ipywidgets.HBox(\n\u001b[1;32m    182\u001b[0m                 \u001b[0;34m[\u001b[0m\u001b[0mself\u001b[0m\u001b[0;34m.\u001b[0m\u001b[0mexperiment_ids_selection_label_widget\u001b[0m\u001b[0;34m,\u001b[0m \u001b[0mself\u001b[0m\u001b[0;34m.\u001b[0m\u001b[0mexperiment_ids_selection_multiselect_widget\u001b[0m\u001b[0;34m]\u001b[0m\u001b[0;34m,\u001b[0m\u001b[0;34m\u001b[0m\u001b[0;34m\u001b[0m\u001b[0m\n",
      "\u001b[0;32m~/data/study/perception/code/exputils/exputils/gui/jupyter/experiment_ids_selection_widget.py\u001b[0m in \u001b[0;36m__init__\u001b[0;34m(self, experiment_data, experiment_descriptions, config, **kwargs)\u001b[0m\n\u001b[1;32m     54\u001b[0m \u001b[0;34m\u001b[0m\u001b[0m\n\u001b[1;32m     55\u001b[0m             \u001b[0;31m# show experiments in the order defined by the descriptions\u001b[0m\u001b[0;34m\u001b[0m\u001b[0;34m\u001b[0m\u001b[0;34m\u001b[0m\u001b[0m\n\u001b[0;32m---> 56\u001b[0;31m             \u001b[0mordered_exp_ids\u001b[0m \u001b[0;34m=\u001b[0m \u001b[0meu\u001b[0m\u001b[0;34m.\u001b[0m\u001b[0mdata\u001b[0m\u001b[0;34m.\u001b[0m\u001b[0mget_ordered_experiment_ids_from_descriptions\u001b[0m\u001b[0;34m(\u001b[0m\u001b[0mexperiment_descriptions\u001b[0m\u001b[0;34m)\u001b[0m\u001b[0;34m\u001b[0m\u001b[0;34m\u001b[0m\u001b[0m\n\u001b[0m\u001b[1;32m     57\u001b[0m \u001b[0;34m\u001b[0m\u001b[0m\n\u001b[1;32m     58\u001b[0m             \u001b[0;31m# detect ids from the experiment_descriptions\u001b[0m\u001b[0;34m\u001b[0m\u001b[0;34m\u001b[0m\u001b[0;34m\u001b[0m\u001b[0m\n",
      "\u001b[0;32m~/data/study/perception/code/exputils/exputils/data/utils.py\u001b[0m in \u001b[0;36mget_ordered_experiment_ids_from_descriptions\u001b[0;34m(experiment_descriptions)\u001b[0m\n\u001b[1;32m     19\u001b[0m \u001b[0;34m\u001b[0m\u001b[0m\n\u001b[1;32m     20\u001b[0m     \u001b[0mexperiment_descriptions_values\u001b[0m \u001b[0;34m=\u001b[0m \u001b[0mlist\u001b[0m\u001b[0;34m(\u001b[0m\u001b[0mexperiment_descriptions\u001b[0m\u001b[0;34m.\u001b[0m\u001b[0mvalues\u001b[0m\u001b[0;34m(\u001b[0m\u001b[0;34m)\u001b[0m\u001b[0;34m)\u001b[0m\u001b[0;34m\u001b[0m\u001b[0;34m\u001b[0m\u001b[0m\n\u001b[0;32m---> 21\u001b[0;31m     \u001b[0morder\u001b[0m \u001b[0;34m=\u001b[0m \u001b[0;34m[\u001b[0m\u001b[0mdescr\u001b[0m\u001b[0;34m[\u001b[0m\u001b[0;34m'order'\u001b[0m\u001b[0;34m]\u001b[0m \u001b[0;32mfor\u001b[0m \u001b[0mdescr\u001b[0m \u001b[0;32min\u001b[0m \u001b[0mexperiment_descriptions_values\u001b[0m\u001b[0;34m]\u001b[0m\u001b[0;34m\u001b[0m\u001b[0;34m\u001b[0m\u001b[0m\n\u001b[0m\u001b[1;32m     22\u001b[0m     \u001b[0msorted_experiment_ids\u001b[0m \u001b[0;34m=\u001b[0m \u001b[0;34m[\u001b[0m\u001b[0mexperiment_descriptions_values\u001b[0m\u001b[0;34m[\u001b[0m\u001b[0midx\u001b[0m\u001b[0;34m]\u001b[0m\u001b[0;34m[\u001b[0m\u001b[0;34m'id'\u001b[0m\u001b[0;34m]\u001b[0m \u001b[0;32mfor\u001b[0m \u001b[0midx\u001b[0m \u001b[0;32min\u001b[0m \u001b[0mnp\u001b[0m\u001b[0;34m.\u001b[0m\u001b[0margsort\u001b[0m\u001b[0;34m(\u001b[0m\u001b[0morder\u001b[0m\u001b[0;34m)\u001b[0m\u001b[0;34m]\u001b[0m\u001b[0;34m\u001b[0m\u001b[0;34m\u001b[0m\u001b[0m\n\u001b[1;32m     23\u001b[0m     \u001b[0;32mreturn\u001b[0m \u001b[0msorted_experiment_ids\u001b[0m\u001b[0;34m\u001b[0m\u001b[0;34m\u001b[0m\u001b[0m\n",
      "\u001b[0;32m~/data/study/perception/code/exputils/exputils/data/utils.py\u001b[0m in \u001b[0;36m<listcomp>\u001b[0;34m(.0)\u001b[0m\n\u001b[1;32m     19\u001b[0m \u001b[0;34m\u001b[0m\u001b[0m\n\u001b[1;32m     20\u001b[0m     \u001b[0mexperiment_descriptions_values\u001b[0m \u001b[0;34m=\u001b[0m \u001b[0mlist\u001b[0m\u001b[0;34m(\u001b[0m\u001b[0mexperiment_descriptions\u001b[0m\u001b[0;34m.\u001b[0m\u001b[0mvalues\u001b[0m\u001b[0;34m(\u001b[0m\u001b[0;34m)\u001b[0m\u001b[0;34m)\u001b[0m\u001b[0;34m\u001b[0m\u001b[0;34m\u001b[0m\u001b[0m\n\u001b[0;32m---> 21\u001b[0;31m     \u001b[0morder\u001b[0m \u001b[0;34m=\u001b[0m \u001b[0;34m[\u001b[0m\u001b[0mdescr\u001b[0m\u001b[0;34m[\u001b[0m\u001b[0;34m'order'\u001b[0m\u001b[0;34m]\u001b[0m \u001b[0;32mfor\u001b[0m \u001b[0mdescr\u001b[0m \u001b[0;32min\u001b[0m \u001b[0mexperiment_descriptions_values\u001b[0m\u001b[0;34m]\u001b[0m\u001b[0;34m\u001b[0m\u001b[0;34m\u001b[0m\u001b[0m\n\u001b[0m\u001b[1;32m     22\u001b[0m     \u001b[0msorted_experiment_ids\u001b[0m \u001b[0;34m=\u001b[0m \u001b[0;34m[\u001b[0m\u001b[0mexperiment_descriptions_values\u001b[0m\u001b[0;34m[\u001b[0m\u001b[0midx\u001b[0m\u001b[0;34m]\u001b[0m\u001b[0;34m[\u001b[0m\u001b[0;34m'id'\u001b[0m\u001b[0;34m]\u001b[0m \u001b[0;32mfor\u001b[0m \u001b[0midx\u001b[0m \u001b[0;32min\u001b[0m \u001b[0mnp\u001b[0m\u001b[0;34m.\u001b[0m\u001b[0margsort\u001b[0m\u001b[0;34m(\u001b[0m\u001b[0morder\u001b[0m\u001b[0;34m)\u001b[0m\u001b[0;34m]\u001b[0m\u001b[0;34m\u001b[0m\u001b[0;34m\u001b[0m\u001b[0m\n\u001b[1;32m     23\u001b[0m     \u001b[0;32mreturn\u001b[0m \u001b[0msorted_experiment_ids\u001b[0m\u001b[0;34m\u001b[0m\u001b[0;34m\u001b[0m\u001b[0m\n",
      "\u001b[0;31mKeyError\u001b[0m: 'order'"
     ]
    }
   ],
   "source": [
    "selection_widget = ExperimentDataSelectionWidget(experiment_data, experiment_descriptions, datasources=['sub_dict_1.values'], experiment_ids=['exp0', 'exp1'], repetition_ids='all', output_format=('S', 'E', 'D'), data_filter='', state_backup_name='state_backup_28282047', is_datasources_selection=False, is_output_format_selection=False, is_data_filter_selection=False, is_code_producer=False)\n",
    "display(selection_widget)"
   ]
  },
  {
   "cell_type": "code",
   "execution_count": 3,
   "metadata": {},
   "outputs": [
    {
     "data": {
      "application/vnd.jupyter.widget-view+json": {
       "model_id": "60d4fee1d6cf468e86afc6901136366c",
       "version_major": 2,
       "version_minor": 0
      },
      "text/plain": [
       "ExperimentDataSelectionWidget(children=(HBox(children=(Label(value='Experiments:', layout=Layout(min_width='10…"
      ]
     },
     "metadata": {},
     "output_type": "display_data"
    }
   ],
   "source": [
    "selection_widget = ExperimentDataSelectionWidget(\n",
    "    experiment_data, \n",
    "    experiment_descriptions,\n",
    "    datasources=['sub_dict_1.values'],\n",
    "    experiment_ids=['exp0', 'exp1'],\n",
    "    repetition_ids='all',\n",
    "    output_format=('S', 'E', 'D'),\n",
    "    data_filter='',\n",
    "    state_backup_name='state_backup_28282032',\n",
    "    is_datasources_selection=False,\n",
    "    is_output_format_selection=False,\n",
    "    is_data_filter_selection=False,\n",
    "    is_code_producer=False) \n",
    "display(selection_widget)"
   ]
  },
  {
   "cell_type": "code",
   "execution_count": 4,
   "metadata": {},
   "outputs": [
    {
     "data": {
      "application/vnd.jupyter.widget-view+json": {
       "model_id": "59c48777c3df4d80bfa492650fd36cf4",
       "version_major": 2,
       "version_minor": 0
      },
      "text/plain": [
       "ExperimentDataSelectionWidget(children=(HBox(children=(Label(value='Experiments:', layout=Layout(min_width='10…"
      ]
     },
     "metadata": {},
     "output_type": "display_data"
    }
   ],
   "source": [
    "selection_widget = ExperimentDataSelectionWidget(experiment_data, experiment_descriptions, datasources=['sub_dict_1.values'], experiment_ids=['exp0', 'exp1'], repetition_ids='all', output_format=('S', 'E', 'D'), data_filter='', state_backup_name='state_backup_28282047', is_datasources_selection=False, is_output_format_selection=False, is_data_filter_selection=False, is_code_producer=False)\n",
    "display(selection_widget)"
   ]
  },
  {
   "cell_type": "code",
   "execution_count": 5,
   "metadata": {},
   "outputs": [
    {
     "data": {
      "application/vnd.jupyter.widget-view+json": {
       "model_id": "e07f414d2b9644e481b9ab9489af07e2",
       "version_major": 2,
       "version_minor": 0
      },
      "text/plain": [
       "ExperimentDataSelectionWidget(children=(HBox(children=(Label(value='Experiments:', layout=Layout(min_width='10…"
      ]
     },
     "metadata": {},
     "output_type": "display_data"
    }
   ],
   "source": [
    "selection_widget = ExperimentDataSelectionWidget(experiment_data, experiment_descriptions, datasources=['sub_dict_1.values'], experiment_ids=['exp0', 'exp1'], repetition_ids='all', output_format=('S', 'E', 'D'), data_filter='', state_backup_name='state_backup_28282047', is_datasources_selection=False, is_output_format_selection=False, is_data_filter_selection=False, is_code_producer=False)\n",
    "display(selection_widget)"
   ]
  },
  {
   "cell_type": "code",
   "execution_count": 6,
   "metadata": {},
   "outputs": [
    {
     "data": {
      "application/vnd.jupyter.widget-view+json": {
       "model_id": "208e4b82ff0443baa8085d7556da7eeb",
       "version_major": 2,
       "version_minor": 0
      },
      "text/plain": [
       "ExperimentDataSelectionWidget(children=(HBox(children=(Label(value='Experiments:', layout=Layout(min_width='10…"
      ]
     },
     "metadata": {},
     "output_type": "display_data"
    }
   ],
   "source": [
    "selection_widget = ExperimentDataSelectionWidget(\n",
    "    experiment_data, \n",
    "    experiment_descriptions,\n",
    "    datasources=['sub_dict_1.values'],\n",
    "    experiment_ids=['exp0', 'exp1'],\n",
    "    repetition_ids='all',\n",
    "    output_format=('S', 'E', 'D'),\n",
    "    data_filter='',\n",
    "    state_backup_name='state_backup_28282032',\n",
    "    is_datasources_selection=False,\n",
    "    is_output_format_selection=False,\n",
    "    is_data_filter_selection=False,\n",
    "    is_code_producer=False) \n",
    "display(selection_widget)"
   ]
  },
  {
   "cell_type": "code",
   "execution_count": 7,
   "metadata": {},
   "outputs": [
    {
     "data": {
      "application/vnd.jupyter.widget-view+json": {
       "model_id": "7c0db482217c4396a5e27d4fad6b44a6",
       "version_major": 2,
       "version_minor": 0
      },
      "text/plain": [
       "ExperimentDataSelectionWidget(children=(HBox(children=(Label(value='Experiments:', layout=Layout(min_width='10…"
      ]
     },
     "metadata": {},
     "output_type": "display_data"
    }
   ],
   "source": [
    "selection_widget = ExperimentDataSelectionWidget(\n",
    "    experiment_data, \n",
    "    experiment_descriptions,\n",
    "    datasources=['sub_dict_1.values'],\n",
    "    experiment_ids=['exp0', 'exp1'],\n",
    "    repetition_ids='all',\n",
    "    output_format=('S', 'E', 'D'),\n",
    "    data_filter='',\n",
    "    state_backup_name='state_backup_28282032',\n",
    "    is_datasources_selection=False,\n",
    "    is_output_format_selection=False,\n",
    "    is_data_filter_selection=False,\n",
    "    is_code_producer=False) \n",
    "display(selection_widget)"
   ]
  },
  {
   "cell_type": "code",
   "execution_count": 8,
   "metadata": {},
   "outputs": [
    {
     "data": {
      "application/vnd.jupyter.widget-view+json": {
       "model_id": "45bbb074628149338c596f0af35d9090",
       "version_major": 2,
       "version_minor": 0
      },
      "text/plain": [
       "ExperimentDataSelectionWidget(children=(HBox(children=(Label(value='Data Sources:', layout=Layout(min_width='1…"
      ]
     },
     "metadata": {},
     "output_type": "display_data"
    },
    {
     "name": "stdout",
     "output_type": "stream",
     "text": [
      "on_data_collected:\n",
      "\t datasources: ['sub_dict_1.values']\n",
      "\t experiment_ids: ['exp0', 'exp1']\n",
      "\t repetition_ids: all\n",
      "\t output_format: ('S', 'E', 'D')\n",
      "\t data_filter: \n",
      "\t experiment_data:\n",
      "[[array([[10, 11, 12, 13],\n",
      "       [20, 21, 22, 23]]), array([[110, 111, 112, 113],\n",
      "       [120, 121, 122, 123]])]]\n",
      "\t experiment_data_labels:\n",
      "[('sub_dict_1.values', [('Experiment 0', ['e0 - 0', 'e0 - 1']), ('Experiment 1', ['e1 - 0', 'e1 - 1'])])]\n"
     ]
    }
   ],
   "source": [
    "import shutil\n",
    "import os\n",
    "import exputils as eu\n",
    "\n",
    "if os.path.isdir(eu.gui.jupyter.DEFAULT_CONFIG_DIRECTORY):\n",
    "    shutil.rmtree(eu.gui.jupyter.DEFAULT_CONFIG_DIRECTORY)\n",
    "\n",
    "selection_widget = ExperimentDataSelectionWidget(\n",
    "    experiment_data, \n",
    "    experiment_descriptions,\n",
    "    datasources='sub_dict_1.values')\n",
    "selection_widget.on_data_collected(data_collected_handler)\n",
    "display(selection_widget)"
   ]
  }
 ],
 "metadata": {
  "kernelspec": {
   "display_name": "Python 3",
   "language": "python",
   "name": "python3"
  },
  "language_info": {
   "codemirror_mode": {
    "name": "ipython",
    "version": 3
   },
   "file_extension": ".py",
   "mimetype": "text/x-python",
   "name": "python",
   "nbconvert_exporter": "python",
   "pygments_lexer": "ipython3",
   "version": "3.6.15"
  }
 },
 "nbformat": 4,
 "nbformat_minor": 4
}
